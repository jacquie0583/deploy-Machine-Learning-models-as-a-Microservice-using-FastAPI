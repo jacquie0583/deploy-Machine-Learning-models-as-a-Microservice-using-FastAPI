{
 "cells": [
  {
   "cell_type": "markdown",
   "id": "fda6b287",
   "metadata": {},
   "source": [
    "#### FastAPI"
   ]
  },
  {
   "cell_type": "markdown",
   "id": "a37cc8de",
   "metadata": {},
   "source": [
    "##### Create Python Virtual Environment and install all dependencies as follows ######\n",
    "\n",
    "create venv using command: python -m venv venvname\n",
    "\n",
    "activate venv: venvname\\Scripts\\Activate\n",
    "\n",
    "install dependencies: pip install -r requirements.txt\n",
    "\n",
    "run using: uvicorn main:app --reload"
   ]
  },
  {
   "cell_type": "code",
   "execution_count": 4,
   "id": "3edb953c",
   "metadata": {},
   "outputs": [
    {
     "name": "stdout",
     "output_type": "stream",
     "text": [
      "0.9666666666666667\n"
     ]
    }
   ],
   "source": [
    "import pandas as pd\n",
    "from sklearn.model_selection import train_test_split\n",
    "from sklearn.linear_model import LogisticRegression\n",
    "import pickle\n",
    "\n",
    "# Load dataset\n",
    "url = \"https://archive.ics.uci.edu/ml/machine-learning-databases/iris/iris.data\"\n",
    "names = ['sepal-length', 'sepal-width', 'petal-length', 'petal-width', 'class']\n",
    "dataset = pd.read_csv(filepath_or_buffer=url,header=None,sep=',',names=names)\n",
    "\n",
    "# Split-out validation dataset\n",
    "array = dataset.values\n",
    "X = array[:,0:4]\n",
    "y = array[:,4]\n",
    "X_train, X_test, y_train, y_test = train_test_split(X, y, test_size=0.20, random_state=1, shuffle=True)\n",
    "\n",
    "classifier = LogisticRegression()\n",
    "classifier.fit(X_train,y_train)\n",
    "\n",
    "#save the model to disk\n",
    "pickle.dump(classifier, open('LRClassifier.pkl', 'wb'))\n",
    "\n",
    "#load the model from disk\n",
    "loaded_model = pickle.load(open('LRClassifier.pkl', 'rb'))\n",
    "\n",
    "result = loaded_model.score(X_test, y_test)\n",
    "print(result)"
   ]
  },
  {
   "cell_type": "code",
   "execution_count": 5,
   "id": "10b34864",
   "metadata": {},
   "outputs": [],
   "source": [
    "from fastapi import FastAPI, File, Form, UploadFile\n",
    "from pydantic import BaseModel\n",
    "import pickle\n",
    "import numpy as np\n",
    "import pandas as pd\n",
    "from io import StringIO\n",
    "\n",
    "app = FastAPI()\n",
    "\n",
    "class IrisSpecies(BaseModel):\n",
    "    sepal_length: float \n",
    "    sepal_width: float \n",
    "    petal_length: float \n",
    "    petal_width: float\n",
    "\n",
    "@app.post('/predict')\n",
    "async def predict_species(iris: IrisSpecies):\n",
    "    data = iris.dict()\n",
    "    loaded_model = pickle.load(open('LRClassifier.pkl', 'rb'))\n",
    "    data_in = [[data['sepal_length'], data['sepal_width'], data['petal_length'], data['petal_width']]]\n",
    "    prediction = loaded_model.predict(data_in)\n",
    "    probability = loaded_model.predict_proba(data_in).max()\n",
    "            \n",
    "    return {\n",
    "        'prediction': prediction[0],\n",
    "        'probability': probability\n",
    "    }\n",
    "\n",
    "@app.post(\"/files/\")\n",
    "async def create_file(file: bytes = File(...), token: str = Form(...)):\n",
    "    s=str(file,'utf-8')\n",
    "    data = StringIO(s)\n",
    "    df=pd.read_csv(data)\n",
    "    print(df)\n",
    "    #return df\n",
    "    return {\n",
    "        \"file\": df,\n",
    "        \"token\": token,\n",
    "    }"
   ]
  },
  {
   "cell_type": "code",
   "execution_count": 12,
   "id": "623a02ca",
   "metadata": {},
   "outputs": [],
   "source": [
    "# main.py\n",
    "\n",
    "from fastapi import FastAPI\n",
    "\n",
    "app = FastAPI()\n",
    "\n",
    "@app.get(\"/\")\n",
    "async def root():\n",
    "    return {\"message\": \"Hello World\"}"
   ]
  },
  {
   "cell_type": "code",
   "execution_count": null,
   "id": "d0aff421",
   "metadata": {},
   "outputs": [],
   "source": [
    "uvicorn src.main:app \n",
    "    "
   ]
  }
 ],
 "metadata": {
  "kernelspec": {
   "display_name": "Python 3 (ipykernel)",
   "language": "python",
   "name": "python3"
  },
  "language_info": {
   "codemirror_mode": {
    "name": "ipython",
    "version": 3
   },
   "file_extension": ".py",
   "mimetype": "text/x-python",
   "name": "python",
   "nbconvert_exporter": "python",
   "pygments_lexer": "ipython3",
   "version": "3.9.12"
  }
 },
 "nbformat": 4,
 "nbformat_minor": 5
}
